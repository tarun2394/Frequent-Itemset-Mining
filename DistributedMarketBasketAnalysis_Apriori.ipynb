{
  "nbformat": 4,
  "nbformat_minor": 0,
  "metadata": {
    "colab": {
      "name": "Tarun_KumarAlapati_Project1.ipynb",
      "provenance": []
    },
    "kernelspec": {
      "name": "python3",
      "display_name": "Python 3"
    }
  },
  "cells": [
    {
      "cell_type": "code",
      "metadata": {
        "id": "dxnQ0-VceW4C",
        "colab_type": "code",
        "colab": {}
      },
      "source": [
        "#Tarun Kumar Alapati"
      ],
      "execution_count": null,
      "outputs": []
    },
    {
      "cell_type": "code",
      "metadata": {
        "id": "hNQB1X9T5G7v",
        "colab_type": "code",
        "colab": {
          "base_uri": "https://localhost:8080/",
          "height": 34
        },
        "outputId": "63cb2d94-6183-4071-f50b-b76e004c25e2"
      },
      "source": [
        "#Mount Drive\n",
        "from google.colab import drive\n",
        "drive.mount('/content/drive')"
      ],
      "execution_count": null,
      "outputs": [
        {
          "output_type": "stream",
          "text": [
            "Mounted at /content/drive\n"
          ],
          "name": "stdout"
        }
      ]
    },
    {
      "cell_type": "code",
      "metadata": {
        "id": "8h7gCmjDARq1",
        "colab_type": "code",
        "colab": {}
      },
      "source": [
        "!pip install pyspark"
      ],
      "execution_count": null,
      "outputs": []
    },
    {
      "cell_type": "code",
      "metadata": {
        "id": "BiFnSjD-AoYs",
        "colab_type": "code",
        "colab": {}
      },
      "source": [
        "#import libraries\n",
        "import sys\n",
        "import re \n",
        "from pyspark import SparkContext, SparkConf\n",
        "from collections import Counter"
      ],
      "execution_count": null,
      "outputs": []
    },
    {
      "cell_type": "code",
      "metadata": {
        "id": "H5zOU_qZAxmo",
        "colab_type": "code",
        "colab": {}
      },
      "source": [
        "SUPPORT = 85\n",
        "CONFIDENCE = 0.9"
      ],
      "execution_count": null,
      "outputs": []
    },
    {
      "cell_type": "code",
      "metadata": {
        "id": "jD120CHSAq3J",
        "colab_type": "code",
        "colab": {}
      },
      "source": [
        "# create Spark context with necessary configuration\n",
        "sc = SparkContext(\"local\",\"PySpark Word Count Exmaple\")"
      ],
      "execution_count": null,
      "outputs": []
    },
    {
      "cell_type": "code",
      "metadata": {
        "id": "EzFDBODoAvEC",
        "colab_type": "code",
        "colab": {}
      },
      "source": [
        "#File Path\n",
        "file=\"/content/drive/My Drive/Big Data Assignments/Project1/browsing.txt\""
      ],
      "execution_count": null,
      "outputs": []
    },
    {
      "cell_type": "code",
      "metadata": {
        "id": "nSxvlh16A6YC",
        "colab_type": "code",
        "colab": {}
      },
      "source": [
        "#Read data into rdd\n",
        "singletons={}\n",
        "def filterspaces(line):\n",
        "    for word in line:\n",
        "        if word == '':\n",
        "          line.remove(word)\n",
        "    return line   \n",
        "\n",
        "fileRDD = sc.textFile(file)\n",
        "wordsRDD = fileRDD.map(lambda line: line.split(\" \")).map(lambda line: filterspaces(line)).map(lambda line: frozenset(line))\n",
        "wordslist= fileRDD.map(lambda line: line.split(\" \")).map(lambda line: filterspaces(line))"
      ],
      "execution_count": null,
      "outputs": []
    },
    {
      "cell_type": "code",
      "metadata": {
        "id": "udg7LBbFBaSz",
        "colab_type": "code",
        "colab": {}
      },
      "source": [
        "#Broadcast all the itemsets to all executer nodes\n",
        "shared_itemset = sc.broadcast(wordsRDD.map(lambda x: frozenset(x)).collect())"
      ],
      "execution_count": null,
      "outputs": []
    },
    {
      "cell_type": "code",
      "metadata": {
        "id": "YOsou8tlBfZE",
        "colab_type": "code",
        "colab": {}
      },
      "source": [
        "shared_itemset.value"
      ],
      "execution_count": null,
      "outputs": []
    },
    {
      "cell_type": "code",
      "metadata": {
        "id": "d6vW7ZEsBKMR",
        "colab_type": "code",
        "colab": {}
      },
      "source": [
        "#Generate singleton file\n",
        "singletons = Counter()\n",
        "for basket in shared_itemset.value:\n",
        "  singletons.update(basket)\n",
        "  #considering them only if the total count >= support\n",
        "  candidateSingletons = []\n",
        "  candidateDictSingletons = {}\n",
        "  finalDict = {}\n",
        "  for x in singletons:\n",
        "    if singletons[x] >= SUPPORT:\n",
        "      candidateSingletons.append(frozenset([x]))\n",
        "      finalDict[frozenset([x])] = singletons[x]\n",
        "    #candidateDictSingletons[frozenset([x])] = singletons[x]\n",
        "    \n",
        "  #Sorting the frequent items\n",
        "  frequentSingletons = sorted(candidateSingletons)\n",
        "  frequentItems = set(frequentSingletons)"
      ],
      "execution_count": null,
      "outputs": []
    },
    {
      "cell_type": "code",
      "metadata": {
        "id": "UkXw3HuKClbV",
        "colab_type": "code",
        "colab": {}
      },
      "source": [
        "#Generating Candidate Sets of frequent items\n",
        "def getItemsforK(frequentItems, k):\n",
        "    frequentItems = list(frequentItems)\n",
        "    combs = []\n",
        "    for i, item1 in enumerate(frequentItems):\n",
        "      for item2 in frequentItems[i+1:]:\n",
        "        if(list(item1)[:k - 2] == list(item2)[:k - 2]):\n",
        "          combs.append(item1 | item2)\n",
        "    return combs"
      ],
      "execution_count": null,
      "outputs": []
    },
    {
      "cell_type": "code",
      "metadata": {
        "id": "BKP3uYz0Kjo3",
        "colab_type": "code",
        "colab": {}
      },
      "source": [
        "#Generating frequent itemsets with support greater than 85\n",
        "def getFrequentItems(frequentitemset, support, shared_itemset):\n",
        "  def getSupport(x):\n",
        "    x_sup = len([1 for t in shared_itemset.value if x.issubset(t)])\n",
        "    if x_sup >= support:\n",
        "      return x, x_sup\n",
        "    else:\n",
        "      return ()\n",
        "  frequentitemsK = sc.parallelize(frequentitemset).map(getSupport).filter(lambda x: x).collect()\n",
        "  return frequentitemsK"
      ],
      "execution_count": null,
      "outputs": []
    },
    {
      "cell_type": "code",
      "metadata": {
        "id": "jhx3SV8IDj3I",
        "colab_type": "code",
        "colab": {}
      },
      "source": [
        "#Apriori Algorithm that generates all the rules by checking the support and return a dictionary with final set of frequent items\n",
        "\n",
        "def apriori(frequentItems, support,finalDict):\n",
        "  k=2\n",
        "  while k <= 4:\n",
        "    candidateFrequentItems = getItemsforK(frequentItems, k)\n",
        "    newFrequentItems = getFrequentItems(candidateFrequentItems,support,shared_itemset)\n",
        "    #finalResult.extend(newFrequentItems)\n",
        "    for item, support in newFrequentItems:\n",
        "      finalDict[item] = support\n",
        "    frequentItems = set(x[0] for x in newFrequentItems)\n",
        "    #frequentItems.sort()\n",
        "    k=k+1\n",
        "\n",
        "  #for item, support in frequentItems:\n",
        "    #finalResult[item] = support\n",
        "    \n",
        "  #finalResult.extend(frequentItems)\n",
        "  #return finalResult\n",
        "  return finalDict"
      ],
      "execution_count": null,
      "outputs": []
    },
    {
      "cell_type": "code",
      "metadata": {
        "id": "saWe72P0DtqT",
        "colab_type": "code",
        "colab": {}
      },
      "source": [
        "dictA = apriori(frequentItems,SUPPORT,finalDict)"
      ],
      "execution_count": null,
      "outputs": []
    },
    {
      "cell_type": "code",
      "metadata": {
        "id": "Tvdy1kqTYHwS",
        "colab_type": "code",
        "colab": {}
      },
      "source": [
        "broadcast_frequentItems = sc.broadcast(dictA)"
      ],
      "execution_count": null,
      "outputs": []
    },
    {
      "cell_type": "code",
      "metadata": {
        "id": "A6BygOaEP69F",
        "colab_type": "code",
        "colab": {}
      },
      "source": [
        "#Function to get the confidence of each of the rules\n",
        "def getConfidence(left, right, broadcast_frequentItems):\n",
        "  confidence = (broadcast_frequentItems[frozenset(left | right)])/broadcast_frequentItems[frozenset(left)]\n",
        "  return confidence"
      ],
      "execution_count": null,
      "outputs": []
    },
    {
      "cell_type": "code",
      "metadata": {
        "id": "25wu0fbWP78N",
        "colab_type": "code",
        "colab": {}
      },
      "source": [
        "#Generates the rules into left and right item sets\n",
        "def getRules(candidateKey, minedfrequentItemSets):\n",
        "  rules = []\n",
        "  #print(candidateKey)\n",
        "  for item in candidateKey:\n",
        "    right = set([item])\n",
        "    #print(right)\n",
        "    left = set(candidateKey)\n",
        "    left.remove(item)\n",
        "    #print(left)\n",
        "    confidence = getConfidence(left,right, minedfrequentItemSets)\n",
        "    if confidence >= CONFIDENCE:\n",
        "      rules.append((\",\".join(left)+\"->\"+item,confidence))\n",
        "      #print(rules)\n",
        "  return rules"
      ],
      "execution_count": null,
      "outputs": []
    },
    {
      "cell_type": "code",
      "metadata": {
        "id": "m7POxQnna_A0",
        "colab_type": "code",
        "colab": {}
      },
      "source": [
        "# Considers frequent sets of size > 1\n",
        "RDD1 = sc.parallelize(dictA.items()).filter(lambda x : len(x[0]) > 1)\n",
        "RDD1.collect()"
      ],
      "execution_count": null,
      "outputs": []
    },
    {
      "cell_type": "code",
      "metadata": {
        "id": "4SNxcVaPcQCG",
        "colab_type": "code",
        "colab": {}
      },
      "source": [
        "RDD2 = RDD1.flatMap(lambda x : getRules(x[0], broadcast_frequentItems.value))\n",
        "RDD2.collect()"
      ],
      "execution_count": null,
      "outputs": []
    },
    {
      "cell_type": "code",
      "metadata": {
        "id": "xb9QN4--dO7G",
        "colab_type": "code",
        "colab": {}
      },
      "source": [
        "#Generates Ruels along with the confidence and output into a file\n",
        "RDD3 = RDD2.sortBy(lambda x : x[1], False).map(lambda x : x[0] + \"; Confidence=\" + str(round(x[1]*100, 2)) + \"%\").coalesce(1).saveAsTextFile(\"/content/associationRulesWithSupport\")"
      ],
      "execution_count": null,
      "outputs": []
    },
    {
      "cell_type": "code",
      "metadata": {
        "id": "i_Cm9Vd1aW_M",
        "colab_type": "code",
        "colab": {}
      },
      "source": [
        "!cat /content/associationRulesWithSupport/part-00000"
      ],
      "execution_count": null,
      "outputs": []
    }
  ]
}